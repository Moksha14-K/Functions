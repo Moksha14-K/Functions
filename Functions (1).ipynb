{
  "nbformat": 4,
  "nbformat_minor": 0,
  "metadata": {
    "colab": {
      "provenance": []
    },
    "kernelspec": {
      "name": "python3",
      "display_name": "Python 3"
    },
    "language_info": {
      "name": "python"
    }
  },
  "cells": [
    {
      "cell_type": "markdown",
      "source": [
        "**Theory Questions:**"
      ],
      "metadata": {
        "id": "2qqYiYJi4sD-"
      }
    },
    {
      "cell_type": "markdown",
      "source": [
        "1. What is the difference between a function and a method in Python?\n",
        "In Python, functions are independent blocks of code that can be called from anywhere, while methods are associated with objects or classes.\n",
        "Examples:\n",
        "A function might calculate a student's GPA in a learning system.\n",
        "A method might define the actions that objects of a class can perform.\n"
      ],
      "metadata": {
        "id": "HgRuYwIL4w8X"
      }
    },
    {
      "cell_type": "markdown",
      "source": [
        "2.  Explain the concept of function arguments and parameters in Python.\n",
        "\n",
        "In Python, parameters are placeholders in a function definition, while arguments are the values passed to a function when it's called.\n",
        "In the function addition(x, y), x and y are parameters.\n",
        "In the function call addition(2, 3), 2 and 3 are arguments."
      ],
      "metadata": {
        "id": "f1ofRxcH5Ytl"
      }
    },
    {
      "cell_type": "markdown",
      "source": [
        "3. What are the different ways to define and call a function in Python?\n",
        "Python Functions is a block of statements that return the specific task. We can define a function in Python, using the def keyword. We can add any type of functionalities and properties to it as we require. Example - def fun():\n",
        "    print(\"Welcome to GFG\") In this way we can create Python function definition by using def keyword.\n",
        "After creating a function in Python we can call it by using the name of the functions Python followed by parenthesis containing parameters of that particular function. Below is the example for calling def function Python. # A simple Python function\n",
        "def fun():\n",
        "    print(\"Welcome to GFG\") Driver code to call a function\n",
        "fun()    "
      ],
      "metadata": {
        "id": "p2a3A44b6API"
      }
    },
    {
      "cell_type": "markdown",
      "source": [
        "4.  What is the purpose of the `return` statement in a Python function?\n",
        "The return statement in Python ends a function and sends a value or values back to the caller. It can return any type of data, including integers, floats, strings, lists, dictionaries, and other functions. Example - The add_numbers function takes two arguments, calculates their sum, and returns the result"
      ],
      "metadata": {
        "id": "s9-8ywIp6zdX"
      }
    },
    {
      "cell_type": "markdown",
      "source": [
        "5. What are iterators in Python and how do they differ from iterables?\n",
        "Iterable is an object, that one can iterate over. It generates an Iterator when passed to iter() method. An iterator is an object, which is used to iterate over an iterable object using the __next__() method. Iterators have the __next__() method, which returns the next item of the object. Every iterator is also an iterable, but not every iterable is an iterator in Python.\n",
        "For example, a list is iterable but a list is not an iterator."
      ],
      "metadata": {
        "id": "L4RsmXPK6t43"
      }
    },
    {
      "cell_type": "markdown",
      "source": [
        "6.  Explain the concept of generators in Python and how they are defined.\n",
        "In Python, a generator is a function that produces a sequence of values on demand, rather than computing and storing all the values at once. Generators are defined using the yield statement, which is used instead of the return statement in a normal function. Example - Read_large_file() generator: Reads and yields one line at a time from a large file"
      ],
      "metadata": {
        "id": "HwXnniTe9Qky"
      }
    },
    {
      "cell_type": "markdown",
      "source": [
        "7. What are the advantages of using generators over regular functions?\n",
        "Unlike a regular function, a generator does not return its results all at once. Instead, it yields its values one by one, each time it is called. This makes it possible to generate an infinite sequence of values, as long as there is sufficient memory to store them."
      ],
      "metadata": {
        "id": "IyP6B7wd9p_N"
      }
    },
    {
      "cell_type": "markdown",
      "source": [
        "8. What is a lambda function in Python and when is it typically used?\n",
        "A lambda function in Python is a function that's defined without a name, and is often used for short tasks. It's also known as an anonymous function. It is used for quick, simple tasks that can be written in a single line, like mathematical calculations or data transformations. It can also be used for functions that are only needed once or for a short period of time as well as for passing functions as arguments to higher-order functions like map(), filter(), or reduce().\n",
        "Example - you can use a lambda function to calculate the square roots of each number in a list.\n",
        "\n"
      ],
      "metadata": {
        "id": "J3Q5BbZe95hZ"
      }
    },
    {
      "cell_type": "markdown",
      "source": [
        "9. Explain the purpose and usage of the `map()` function in Python.\n",
        "The Python map() function applies a function to every item in an iterable, such as a list, tuple, set, or dictionary. The result is an iterator that can be converted to a sequence object, like a list or tuple.\n",
        "**Purpose**\n",
        "The map() function is used to apply a single transformation function to all the items in an iterable.\n",
        "It's a useful tool for processing iterables without using an explicit for loop.\n",
        "The map() function is part of Python's functional programming style.\n",
        "**Usage**\n",
        "The map() function takes a function and one or more iterables as arguments.\n",
        "The function is the transformation function to be applied to each item in the iterable.\n",
        "The map() function returns an iterator that can be converted to a sequence object.\n",
        "**Example**\n",
        "To calculate the squares of the numbers in the list numbers, you can use the map() function with the lambda expression lambda x: x**2."
      ],
      "metadata": {
        "id": "s6wNT2Pj-X-r"
      }
    },
    {
      "cell_type": "markdown",
      "source": [
        "10. What is the difference between `map()`, `reduce()`, and `filter()` functions in Python?\n",
        "Map Function - The map () function returns a map object(which is an iterator) of the results after applying the given function to each item of a given iterable (list, tuple, etc.).\n",
        "Reduce Function - The reduce function is used to apply a particular function passed in its argument to all of the list elements mentioned in the sequence passed along.This function is defined in “functools” module.\n",
        "Filter Function - The filter() method filters the given sequence with the help of a function that tests each element in the sequence to be true or not."
      ],
      "metadata": {
        "id": "WLBF_uGR-oUf"
      }
    },
    {
      "cell_type": "markdown",
      "source": [
        "11. Using pen & Paper write the internal mechanism for sum operation using  reduce function on this given\n",
        "list:[47,11,42,13];\n",
        "\n",
        "\n"
      ],
      "metadata": {
        "id": "hjBxr_cs_l7O"
      }
    },
    {
      "cell_type": "code",
      "source": [
        "#11.\n",
        "from functools import reduce\n",
        "def add(x,y):\n",
        "  return x+y\n",
        "\n",
        "l = [47,11,42,13]\n",
        "res = reduce(add,l)\n",
        "print(res)"
      ],
      "metadata": {
        "colab": {
          "base_uri": "https://localhost:8080/"
        },
        "id": "m-2syyNq6WmA",
        "outputId": "b4c9afcb-5cf9-4acf-ce0f-02054debe77a"
      },
      "execution_count": 4,
      "outputs": [
        {
          "output_type": "stream",
          "name": "stdout",
          "text": [
            "113\n"
          ]
        }
      ]
    },
    {
      "cell_type": "markdown",
      "source": [
        "**Practical Questions:**\n"
      ],
      "metadata": {
        "id": "45k5RHKJ_oVv"
      }
    },
    {
      "cell_type": "code",
      "source": [
        "#1. Write a Python function that takes a list of numbers as input and returns the sum of all even numbers in\n",
        "#the list.\n",
        "\n",
        "def sum_of_even_numbers(num):\n",
        "  sum_even = 0\n",
        "  for i in range(num+1):\n",
        "    if i % 2 == 0:\n",
        "      sum_even += i\n",
        "  return sum_even\n",
        "\n",
        "num = int(input(\"Enter a number: \"))\n",
        "result = sum_of_even_numbers(num)\n",
        "print(f\"Sum of all the even numbers is {result}\")\n",
        "\n"
      ],
      "metadata": {
        "colab": {
          "base_uri": "https://localhost:8080/"
        },
        "id": "56poKvph_rkd",
        "outputId": "f341d07b-ff2b-486e-dddb-0a67fef354e4"
      },
      "execution_count": null,
      "outputs": [
        {
          "output_type": "stream",
          "name": "stdout",
          "text": [
            "Enter a number: 50\n",
            "Sum of all the even numbers is 650\n"
          ]
        }
      ]
    },
    {
      "cell_type": "code",
      "source": [
        "#2. Create a Python function that accepts a string and returns the reverse of that string.\n",
        "\n",
        "def my_function(x):\n",
        "  return x[::-1]\n",
        "\n",
        "mytxt = my_function(\"I study at PWskills\")\n",
        "\n",
        "print(mytxt)"
      ],
      "metadata": {
        "colab": {
          "base_uri": "https://localhost:8080/"
        },
        "id": "3JCAi3ynBu86",
        "outputId": "7804767b-c533-4c33-8874-202f1df3a5f8"
      },
      "execution_count": null,
      "outputs": [
        {
          "output_type": "stream",
          "name": "stdout",
          "text": [
            "slliksWP ta yduts I\n"
          ]
        }
      ]
    },
    {
      "cell_type": "code",
      "source": [
        "#3. Implement a Python function that takes a list of integers and returns a new list containing the squares of\n",
        "# each number.\n",
        "\n",
        "def values():\n",
        "    l = list()\n",
        "    for i in range(1,11):\n",
        "        l.append(i*i)\n",
        "    print(l)\n",
        "\n",
        "values()"
      ],
      "metadata": {
        "colab": {
          "base_uri": "https://localhost:8080/"
        },
        "id": "V_qU3PgACM25",
        "outputId": "0fb43b50-f5df-47bb-9125-f7a4dc4a6378"
      },
      "execution_count": null,
      "outputs": [
        {
          "output_type": "stream",
          "name": "stdout",
          "text": [
            "[1, 4, 9, 16, 25, 36, 49, 64, 81, 100]\n"
          ]
        }
      ]
    },
    {
      "cell_type": "code",
      "source": [
        "#4. Write a Python function that checks if a given number is prime or not from 1 to 200.\n",
        "\n",
        "def is_prime_using_while(num):\n",
        "  if num<=1:\n",
        "    return False\n",
        "  i = 2\n",
        "  while i * i <= num:\n",
        "    if num % i == 0:\n",
        "      return False\n",
        "    i += 1\n",
        "  return True\n"
      ],
      "metadata": {
        "id": "-j4_b5l4DbnP"
      },
      "execution_count": null,
      "outputs": []
    },
    {
      "cell_type": "code",
      "source": [
        "#5.  Create an iterator class in Python that generates the Fibonacci sequence up to a specified number of\n",
        "# terms.\n",
        "\n",
        "def fibonacci(n):\n",
        "  i = 0\n",
        "  l = [0,1]\n",
        "  while i < n-2:\n",
        "    l.append(l[-1]+l[-2])\n",
        "    i+=1\n",
        "  return l\n",
        "\n",
        "if __name__ == \"__main__\":\n",
        "  n = 10\n",
        "  fibo = fibonacci(n)\n",
        "  print(\"Fibonacci Series: \", *fibo)\n"
      ],
      "metadata": {
        "id": "sAp4cv61DS2D",
        "colab": {
          "base_uri": "https://localhost:8080/"
        },
        "outputId": "c1664add-b87b-4fec-d39f-44bf0a0a3be4"
      },
      "execution_count": null,
      "outputs": [
        {
          "output_type": "stream",
          "name": "stdout",
          "text": [
            "Fibonacci Series:  0 1 1 2 3 5 8 13 21 34\n"
          ]
        }
      ]
    },
    {
      "cell_type": "code",
      "source": [
        "#6. Write a generator function in Python that yields the powers of 2 up to a given exponent.\n",
        "\n",
        "def power_generator(base, exponent):\n",
        "    result = 1\n",
        "    for i in range(exponent + 1):\n",
        "        yield result\n",
        "        result *= base\n",
        "\n",
        "base = int(input(\"Input the base number: \"))\n",
        "exponent = int(input(\"Input the exponent: \"))\n",
        "\n",
        "power_gen = power_generator(base, exponent)\n",
        "\n",
        "print(f\"Powers of {base} up to exponent {exponent}:\")\n",
        "for power in power_gen:\n",
        "    print(power)"
      ],
      "metadata": {
        "colab": {
          "base_uri": "https://localhost:8080/"
        },
        "id": "FFpfVZl5J4qj",
        "outputId": "4119533a-0cb0-4612-8d88-3862ffacfa0a"
      },
      "execution_count": null,
      "outputs": [
        {
          "output_type": "stream",
          "name": "stdout",
          "text": [
            "Input the base number: 4\n",
            "Input the exponent: 6\n",
            "Powers of 4 up to exponent 6:\n",
            "1\n",
            "4\n",
            "16\n",
            "64\n",
            "256\n",
            "1024\n",
            "4096\n"
          ]
        }
      ]
    },
    {
      "cell_type": "code",
      "source": [
        "#7.  Implement a generator function that reads a file line by line and yields each line as a string.\n",
        "\n",
        "def read_file_lines(file_path):\n",
        "    with open(file_path, 'r') as file:\n",
        "        for line in file:\n",
        "            yield line"
      ],
      "metadata": {
        "id": "Txb3DEt6L4PA"
      },
      "execution_count": null,
      "outputs": []
    },
    {
      "cell_type": "code",
      "source": [
        "#8. Use a lambda function in Python to sort a list of tuples based on the second element of each tuple.\n",
        "\n",
        "a = [(1, 3), (4, 1), (2, 2)]\n",
        "sorted_list = sorted(a, key=lambda x: x[1])\n",
        "print(\"Sorted List:\", sorted_list)"
      ],
      "metadata": {
        "colab": {
          "base_uri": "https://localhost:8080/"
        },
        "id": "mhQzWUbXMFXS",
        "outputId": "ed714c35-6117-40f9-bb60-0cf3a317577c"
      },
      "execution_count": null,
      "outputs": [
        {
          "output_type": "stream",
          "name": "stdout",
          "text": [
            "Sorted List: [(4, 1), (2, 2), (1, 3)]\n"
          ]
        }
      ]
    },
    {
      "cell_type": "code",
      "source": [
        "#9. Write a Python program that uses `map()` to convert a list of temperatures from Celsius to Fahrenheit.\n",
        "\n",
        "celsius = [0, 20, 37, 100]\n",
        "fahrenheit = map(lambda c: (c * 9/5) + 32, celsius)\n",
        "print(list(fahrenheit))\n"
      ],
      "metadata": {
        "colab": {
          "base_uri": "https://localhost:8080/"
        },
        "id": "WUHE2qxMNS8I",
        "outputId": "9b2937d6-83a8-44b3-a151-70b30a30bcd4"
      },
      "execution_count": null,
      "outputs": [
        {
          "output_type": "stream",
          "name": "stdout",
          "text": [
            "[32.0, 68.0, 98.6, 212.0]\n"
          ]
        }
      ]
    },
    {
      "cell_type": "code",
      "source": [
        "#10. Create a Python program that uses `filter()` to remove all the vowels from a given string.\n",
        "\n",
        "a=list(\"orange\")\n",
        "def vowel(x):\n",
        "    v=('a','e','i','o','u')\n",
        "    return x in v\n",
        "\n",
        "b=list(filter(vowel,a))\n",
        "print(\"Vowels : \",b)\n",
        "print(\"No of Vowels : \",len(b))\n",
        "\n"
      ],
      "metadata": {
        "id": "b43xmAMYNy7k",
        "colab": {
          "base_uri": "https://localhost:8080/"
        },
        "outputId": "4ad39e39-6239-42ce-8fae-99ac81112e8c"
      },
      "execution_count": 1,
      "outputs": [
        {
          "output_type": "stream",
          "name": "stdout",
          "text": [
            "Vowels :  ['o', 'a', 'e']\n",
            "No of Vowels :  3\n"
          ]
        }
      ]
    },
    {
      "cell_type": "code",
      "source": [
        "#11.\n",
        "\n",
        "orders = [\n",
        "    [\"34587\", \"Learning Python, Mark Lutz\", 4, 40.95],\n",
        "    [\"98762\", \"Programming Python, Mark Lutz\", 5, 56.80],\n",
        "    [\"77226\", \"Head First Python, Paul Barry\", 3, 32.95],\n",
        "    [\"88112\", \"Python Cookbook, David Beazley\", 3, 24.99]\n",
        "]\n",
        "\n",
        "result = list(map(lambda x: (x[0], x[2] * x[3] + 10 if x[2] * x[3] < 100 else x[2] * x[3]), orders))\n",
        "\n",
        "print(result)"
      ],
      "metadata": {
        "id": "P656nyEqPFl2",
        "colab": {
          "base_uri": "https://localhost:8080/"
        },
        "outputId": "eb5f58b7-9797-4ea1-f1cd-6775bc6c172f"
      },
      "execution_count": 2,
      "outputs": [
        {
          "output_type": "stream",
          "name": "stdout",
          "text": [
            "[('34587', 163.8), ('98762', 284.0), ('77226', 108.85000000000001), ('88112', 84.97)]\n"
          ]
        }
      ]
    }
  ]
}